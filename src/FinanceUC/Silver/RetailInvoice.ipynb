{
 "cells": [
  {
   "cell_type": "code",
   "execution_count": null,
   "metadata": {
    "vscode": {
     "languageId": "plaintext"
    }
   },
   "outputs": [],
   "source": [
    "import logging\n",
    "from pyspark.sql.functions import col, regexp_replace, lit\n",
    "from pyspark.sql.types import DoubleType, IntegerType, StructType, StructField, StringType\n",
    "from delta.tables import DeltaTable\n",
    "\n",
    "logging.basicConfig(\n",
    "    level=logging.INFO,\n",
    "    format=\"%(asctime)s - %(levelname)s - %(message)s\",\n",
    "    handlers=[logging.StreamHandler()]\n",
    ")\n",
    "\n",
    "logger = logging.getLogger(__name__)"
   ]
  },
  {
   "cell_type": "code",
   "execution_count": null,
   "metadata": {
    "vscode": {
     "languageId": "plaintext"
    }
   },
   "outputs": [],
   "source": [
    "from pyspark.sql.functions import col, trim, upper, to_timestamp\n",
    "\n",
    "bronze_df = spark.read.format(\"delta\").load(\"/mnt/bronze/retail/invoices\")\n",
    "\n",
    "silver_df = (\n",
    "    bronze_df\n",
    "    # Cast types\n",
    "    .withColumn(\"Quantity\", col(\"Quantity\").cast(\"int\"))\n",
    "    .withColumn(\"UnitPrice\", col(\"UnitPrice\").cast(\"double\"))\n",
    "    .withColumn(\"InvoiceDate\", to_timestamp(col(\"InvoiceDate\"), \"MM/dd/yyyy HH:mm\"))  \n",
    "    # Clean text fields\n",
    "    .withColumn(\"Description\", trim(col(\"Description\")))\n",
    "    .withColumn(\"Country\", upper(trim(col(\"Country\"))))\n",
    "    # Remove duplicates\n",
    "    .dropDuplicates([\"InvoiceNo\", \"StockCode\", \"CustomerID\"])\n",
    "    # Filter invalid data\n",
    "    .filter(\n",
    "        (col(\"InvoiceNo\").isNotNull()) &\n",
    "        (col(\"CustomerID\").isNotNull()) &\n",
    "        (col(\"Quantity\") > 0) &\n",
    "        (col(\"UnitPrice\") > 0)\n",
    "    )\n",
    ")\n",
    "\n",
    "silver_df.write.format(\"delta\").mode(\"overwrite\").save(\"/mnt/silver/retail/invoices\")"
   ]
  }
 ],
 "metadata": {
  "language_info": {
   "name": "python"
  }
 },
 "nbformat": 4,
 "nbformat_minor": 2
}
